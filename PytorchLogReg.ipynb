{
 "cells": [
  {
   "cell_type": "code",
   "execution_count": 24,
   "id": "c5e065ec-b284-4caa-84b5-0d2734e24ad8",
   "metadata": {},
   "outputs": [],
   "source": [
    "# import torch\n",
    "import sklearn\n",
    "import torch.nn as nn\n",
    "import torch\n",
    "import numpy as np\n",
    "from sklearn import datasets\n",
    "import matplotlib.pyplot as plt\n",
    "from sklearn.model_selection import train_test_split\n",
    "from sklearn.preprocessing import StandardScaler\n",
    "\n",
    "\n",
    "lr = 0.01\n",
    "epoch = 150"
   ]
  },
  {
   "cell_type": "code",
   "execution_count": 25,
   "id": "90f65c89-2bbb-47ec-9872-288ef3847839",
   "metadata": {},
   "outputs": [],
   "source": [
    "sc = StandardScaler()"
   ]
  },
  {
   "cell_type": "code",
   "execution_count": 40,
   "id": "5e5589a2-ddcc-431b-895f-943056dfdd5f",
   "metadata": {},
   "outputs": [],
   "source": [
    "bc = datasets.load_breast_cancer()"
   ]
  },
  {
   "cell_type": "code",
   "execution_count": 41,
   "id": "cd0e7f61-89d2-43b6-bedb-f4dbc33b24d4",
   "metadata": {},
   "outputs": [],
   "source": [
    "X = bc.data\n",
    "y = bc.target"
   ]
  },
  {
   "cell_type": "code",
   "execution_count": 42,
   "id": "249f8b42-bd7a-4173-80e3-2ce22e3d9ead",
   "metadata": {},
   "outputs": [],
   "source": [
    "X_train,X_test,y_train,y_test   = train_test_split(X,y,test_size=.2)"
   ]
  },
  {
   "cell_type": "code",
   "execution_count": 43,
   "id": "e7958cd7-997e-4b62-ac0f-b4a9c8ab53df",
   "metadata": {},
   "outputs": [],
   "source": [
    "X_train = sc.fit_transform(X_train)\n",
    "X_test = sc.transform(X_test)"
   ]
  },
  {
   "cell_type": "code",
   "execution_count": 44,
   "id": "530e9029-a1c9-4043-85c5-b0dcffa6d7b3",
   "metadata": {},
   "outputs": [],
   "source": [
    "X_train = torch.from_numpy(X_train.astype(np.float32))\n",
    "y_train = torch.from_numpy(y_train.astype(np.float32))\n",
    "X_test = torch.from_numpy(X_test.astype(np.float32))\n",
    "y_test = torch.from_numpy(y_test.astype(np.float32))\n",
    "\n",
    "y_train = y_train.view(y_train.shape[0],1)\n",
    "y_test = y_test.view(y_test.shape[0],1)"
   ]
  },
  {
   "cell_type": "code",
   "execution_count": 45,
   "id": "7d8e49d5-1864-4ffa-a9e5-d940967e3fe6",
   "metadata": {},
   "outputs": [],
   "source": [
    "n_sample, n_feature = X_train.shape\n"
   ]
  },
  {
   "cell_type": "code",
   "execution_count": 46,
   "id": "32af7c86-955e-4f2e-8866-6901571859ea",
   "metadata": {},
   "outputs": [],
   "source": [
    "class LogisticRegression(nn.Module):\n",
    "    def __init__(self,input_size,output_size):\n",
    "        super(LogisticRegression,self).__init__()\n",
    "        self.l1 = nn.Linear(input_size,output_size)\n",
    "        \n",
    "        \n",
    "    def forward(self,x):\n",
    "        return torch.sigmoid(self.l1(x))\n",
    "        "
   ]
  },
  {
   "cell_type": "code",
   "execution_count": 47,
   "id": "28f125b7-c8dd-4e7c-966a-9954e291b90a",
   "metadata": {},
   "outputs": [],
   "source": [
    "model = LogisticRegression(n_feature,1)\n",
    "optimizer = torch.optim.Adam(model.parameters(),lr=lr)\n",
    "criterian = nn.BCELoss()"
   ]
  },
  {
   "cell_type": "code",
   "execution_count": 48,
   "id": "1703a551-24c5-4ee6-b9bb-2b2b280383ca",
   "metadata": {},
   "outputs": [
    {
     "name": "stdout",
     "output_type": "stream",
     "text": [
      "Loss: 0.6298\n",
      "Loss: 0.3997\n",
      "Loss: 0.2924\n",
      "Loss: 0.2342\n",
      "Loss: 0.1969\n",
      "Loss: 0.1709\n",
      "Loss: 0.1523\n",
      "Loss: 0.1387\n",
      "Loss: 0.1285\n",
      "Loss: 0.1205\n",
      "Loss: 0.1142\n",
      "Loss: 0.1090\n",
      "Loss: 0.1048\n",
      "Loss: 0.1012\n",
      "Loss: 0.0980\n",
      "Loss: 0.0952\n",
      "Loss: 0.0927\n",
      "Loss: 0.0905\n",
      "Loss: 0.0884\n",
      "Loss: 0.0865\n",
      "Loss: 0.0848\n",
      "Loss: 0.0831\n",
      "Loss: 0.0816\n",
      "Loss: 0.0802\n",
      "Loss: 0.0789\n",
      "Loss: 0.0777\n",
      "Loss: 0.0765\n",
      "Loss: 0.0754\n",
      "Loss: 0.0744\n",
      "Loss: 0.0734\n",
      "Accuracy: 0.98 \n"
     ]
    }
   ],
   "source": [
    "for ep in range(epoch):\n",
    "    \n",
    "    #forward\n",
    "    y_pred = model(X_train)\n",
    "    \n",
    "    #backward\n",
    "    loss = criterian(y_pred,y_train)\n",
    "    loss.backward()\n",
    "\n",
    "     #update\n",
    "    optimizer.step()\n",
    "    optimizer.zero_grad()\n",
    "    \n",
    "    if ep%5==0:\n",
    "        print(f'Loss: {loss:.4f}')\n",
    "\n",
    "with torch.no_grad():\n",
    "    prediction = model(X_test)\n",
    "    prediction_cls = prediction.round()\n",
    "    acc = prediction_cls.eq(y_test).sum()/float(y_test.shape[0])\n",
    "    print(f\"Accuracy: {acc:.2f} \")\n",
    "    "
   ]
  },
  {
   "cell_type": "code",
   "execution_count": null,
   "id": "028e35de-9a02-4fdf-92bb-828e230b0af8",
   "metadata": {},
   "outputs": [],
   "source": []
  },
  {
   "cell_type": "code",
   "execution_count": null,
   "id": "94313b0a-ab80-4292-b3b4-b90492b41f86",
   "metadata": {},
   "outputs": [],
   "source": []
  },
  {
   "cell_type": "code",
   "execution_count": null,
   "id": "efb3546e-2140-44ef-aa5f-24cb1c9a91d1",
   "metadata": {},
   "outputs": [],
   "source": []
  },
  {
   "cell_type": "code",
   "execution_count": null,
   "id": "9cae945f-48ef-43a4-ab81-321b4b5f90f4",
   "metadata": {},
   "outputs": [],
   "source": []
  }
 ],
 "metadata": {
  "kernelspec": {
   "display_name": "gamevir",
   "language": "python",
   "name": "gamevir"
  },
  "language_info": {
   "codemirror_mode": {
    "name": "ipython",
    "version": 3
   },
   "file_extension": ".py",
   "mimetype": "text/x-python",
   "name": "python",
   "nbconvert_exporter": "python",
   "pygments_lexer": "ipython3",
   "version": "3.9.1"
  }
 },
 "nbformat": 4,
 "nbformat_minor": 5
}
