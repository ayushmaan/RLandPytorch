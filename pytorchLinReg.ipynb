{
 "cells": [
  {
   "cell_type": "code",
   "execution_count": 7,
   "id": "9b75e618-4db6-4bab-b56b-3e02196da7ad",
   "metadata": {},
   "outputs": [
    {
     "name": "stdout",
     "output_type": "stream",
     "text": [
      "Collecting matplotlib\n",
      "  Downloading matplotlib-3.4.2-cp39-cp39-macosx_10_9_x86_64.whl (7.2 MB)\n",
      "\u001b[K     |████████████████████████████████| 7.2 MB 2.3 MB/s eta 0:00:01\n",
      "\u001b[?25hRequirement already satisfied: python-dateutil>=2.7 in /Users/ayushmangupta/Desktop/gamevir/lib/python3.9/site-packages (from matplotlib) (2.8.1)\n",
      "Requirement already satisfied: numpy>=1.16 in /Users/ayushmangupta/Desktop/gamevir/lib/python3.9/site-packages (from matplotlib) (1.19.5)\n",
      "Collecting kiwisolver>=1.0.1\n",
      "  Using cached kiwisolver-1.3.1-cp39-cp39-macosx_10_9_x86_64.whl (61 kB)\n",
      "Requirement already satisfied: pillow>=6.2.0 in /Users/ayushmangupta/Desktop/gamevir/lib/python3.9/site-packages (from matplotlib) (8.2.0)\n",
      "Requirement already satisfied: pyparsing>=2.2.1 in /Users/ayushmangupta/Desktop/gamevir/lib/python3.9/site-packages (from matplotlib) (2.4.7)\n",
      "Collecting cycler>=0.10\n",
      "  Using cached cycler-0.10.0-py2.py3-none-any.whl (6.5 kB)\n",
      "Requirement already satisfied: six in /Users/ayushmangupta/Desktop/gamevir/lib/python3.9/site-packages (from cycler>=0.10->matplotlib) (1.15.0)\n",
      "Installing collected packages: kiwisolver, cycler, matplotlib\n",
      "Successfully installed cycler-0.10.0 kiwisolver-1.3.1 matplotlib-3.4.2\n",
      "\u001b[33mWARNING: You are using pip version 21.0.1; however, version 21.1.2 is available.\n",
      "You should consider upgrading via the '/Users/ayushmangupta/Desktop/gamevir/bin/python -m pip install --upgrade pip' command.\u001b[0m\n"
     ]
    }
   ],
   "source": [
    "!pip install matplotlib"
   ]
  },
  {
   "cell_type": "code",
   "execution_count": 92,
   "id": "7d01ffb7-3f61-4549-9737-49dccd284c06",
   "metadata": {},
   "outputs": [],
   "source": [
    "# import torch\n",
    "import sklearn\n",
    "import torch.nn as nn\n",
    "import numpy as np\n",
    "from sklearn import datasets\n",
    "import matplotlib.pyplot as plt\n",
    "\n",
    "lr = 0.01\n",
    "epoch = 150"
   ]
  },
  {
   "cell_type": "code",
   "execution_count": 93,
   "id": "d04fc17f-31f8-47fd-b0d0-58bdbf660715",
   "metadata": {},
   "outputs": [
    {
     "data": {
      "image/png": "[encoded data removed]",
      "text/plain": [
       "<Figure size 432x288 with 1 Axes>"
      ]
     },
     "metadata": {
      "needs_background": "light"
     },
     "output_type": "display_data"
    }
   ],
   "source": [
    "x,y = datasets.make_regression(n_samples=100,n_features=1,noise=20\n",
    "                               ,random_state=20)\n",
    "\n",
    "plt.scatter(x,y)\n",
    "\n",
    "x = torch.from_numpy(x.astype(np.float32))\n",
    "y = torch.from_numpy(y.astype(np.float32))\n",
    "y = y.view(y.shape[0], 1)"
   ]
  },
  {
   "cell_type": "code",
   "execution_count": null,
   "id": "8fa705c8-d4d8-4279-a782-5e9b081f1894",
   "metadata": {},
   "outputs": [],
   "source": []
  },
  {
   "cell_type": "code",
   "execution_count": null,
   "id": "daf5b18e-b875-4456-84b2-67efd9b01594",
   "metadata": {},
   "outputs": [],
   "source": []
  },
  {
   "cell_type": "code",
   "execution_count": 94,
   "id": "7555bbc2-44c8-444d-b210-94bdc8bd3c15",
   "metadata": {},
   "outputs": [],
   "source": [
    "n_samples,n_features = x.shape"
   ]
  },
  {
   "cell_type": "code",
   "execution_count": 90,
   "id": "23ebc94d-ded5-40a4-b631-f0b554b9133f",
   "metadata": {},
   "outputs": [],
   "source": [
    "model = nn.Linear(n_features,1)\n",
    "criterian = nn.MSELoss()\n",
    "optimizer = torch.optim.SGD(model.parameters(),lr=lr)"
   ]
  },
  {
   "cell_type": "code",
   "execution_count": 95,
   "id": "492a23ff-5f35-4eb2-a4a2-7518b4aadb4d",
   "metadata": {},
   "outputs": [
    {
     "name": "stdout",
     "output_type": "stream",
     "text": [
      "epoch 0  Loss tensor(452.2501, grad_fn=<MseLossBackward>)\n",
      "epoch 10  Loss tensor(452.2501, grad_fn=<MseLossBackward>)\n",
      "epoch 20  Loss tensor(452.2501, grad_fn=<MseLossBackward>)\n",
      "epoch 30  Loss tensor(452.2501, grad_fn=<MseLossBackward>)\n",
      "epoch 40  Loss tensor(452.2501, grad_fn=<MseLossBackward>)\n",
      "epoch 50  Loss tensor(452.2501, grad_fn=<MseLossBackward>)\n",
      "epoch 60  Loss tensor(452.2501, grad_fn=<MseLossBackward>)\n",
      "epoch 70  Loss tensor(452.2501, grad_fn=<MseLossBackward>)\n",
      "epoch 80  Loss tensor(452.2501, grad_fn=<MseLossBackward>)\n",
      "epoch 90  Loss tensor(452.2501, grad_fn=<MseLossBackward>)\n",
      "epoch 100  Loss tensor(452.2501, grad_fn=<MseLossBackward>)\n",
      "epoch 110  Loss tensor(452.2501, grad_fn=<MseLossBackward>)\n",
      "epoch 120  Loss tensor(452.2501, grad_fn=<MseLossBackward>)\n",
      "epoch 130  Loss tensor(452.2501, grad_fn=<MseLossBackward>)\n",
      "epoch 140  Loss tensor(452.2501, grad_fn=<MseLossBackward>)\n"
     ]
    }
   ],
   "source": [
    "for epx in range(epoch):\n",
    "    \n",
    "    \n",
    "    # forward\n",
    "    y_pred = model(x)\n",
    "    l = criterian(y,y_pred)\n",
    "    \n",
    "    #backward\n",
    "    \n",
    "    l.backward()\n",
    "    # update\n",
    "    \n",
    "    optimizer.step()\n",
    "    optimizer.zero_grad()\n",
    "    \n",
    "    if epx%10==0:\n",
    "    \n",
    "        print(\"epoch\",epx,\" Loss\",l)"
   ]
  },
  {
   "cell_type": "code",
   "execution_count": 96,
   "id": "90b82e06-6a65-4ed3-b009-00cf4df83bd6",
   "metadata": {},
   "outputs": [],
   "source": [
    "predicted = model(x)\n"
   ]
  },
  {
   "cell_type": "code",
   "execution_count": 97,
   "id": "320d55d1-10f0-4755-834c-b567642e2bbe",
   "metadata": {},
   "outputs": [
    {
     "data": {
      "text/plain": [
       "0.02219965122640133"
      ]
     },
     "execution_count": 97,
     "metadata": {},
     "output_type": "execute_result"
    }
   ],
   "source": [
    "w.item()"
   ]
  },
  {
   "cell_type": "code",
   "execution_count": 98,
   "id": "3f6646a2-1566-436c-830b-6a4a413d5fe5",
   "metadata": {},
   "outputs": [
    {
     "data": {
      "text/plain": [
       "[<matplotlib.lines.Line2D at 0x1650c89a0>]"
      ]
     },
     "execution_count": 98,
     "metadata": {},
     "output_type": "execute_result"
    },
    {
     "data": {
      "image/png": "[encoded data removed]",
      "text/plain": [
       "<Figure size 432x288 with 1 Axes>"
      ]
     },
     "metadata": {
      "needs_background": "light"
     },
     "output_type": "display_data"
    }
   ],
   "source": [
    "plt.plot(x,y,\"ro\")\n",
    "plt.plot(x,predicted.detach().numpy(),\"b\")"
   ]
  },
  {
   "cell_type": "code",
   "execution_count": null,
   "id": "2e1bfe0d-0484-4f33-939d-c5df154c93d0",
   "metadata": {},
   "outputs": [],
   "source": []
  },
  {
   "cell_type": "code",
   "execution_count": null,
   "id": "3966114b-310e-4a69-9e5f-d455ae0339d3",
   "metadata": {},
   "outputs": [],
   "source": []
  },
  {
   "cell_type": "code",
   "execution_count": null,
   "id": "da071107-52a7-4c72-b2ba-1f63005b732b",
   "metadata": {},
   "outputs": [],
   "source": []
  },
  {
   "cell_type": "code",
   "execution_count": null,
   "id": "988ed3f1-0b5d-451e-895b-daf712ce6dc6",
   "metadata": {},
   "outputs": [],
   "source": []
  }
 ],
 "metadata": {
  "kernelspec": {
   "display_name": "gamevir",
   "language": "python",
   "name": "gamevir"
  },
  "language_info": {
   "codemirror_mode": {
    "name": "ipython",
    "version": 3
   },
   "file_extension": ".py",
   "mimetype": "text/x-python",
   "name": "python",
   "nbconvert_exporter": "python",
   "pygments_lexer": "ipython3",
   "version": "3.9.1"
  }
 },
 "nbformat": 4,
 "nbformat_minor": 5
}
