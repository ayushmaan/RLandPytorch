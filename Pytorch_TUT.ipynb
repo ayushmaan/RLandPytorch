{
 "cells": [
  {
   "cell_type": "code",
   "execution_count": null,
   "id": "dbc88599-6eb9-4c8a-afb7-f08766b0ae94",
   "metadata": {},
   "outputs": [],
   "source": [
    "import torch\n",
    "import numpy as np\n",
    "import random"
   ]
  },
  {
   "cell_type": "code",
   "execution_count": null,
   "id": "aa3ecb06-b565-43d2-886b-cabab1c90509",
   "metadata": {},
   "outputs": [],
   "source": [
    "x = torch.zeros(2,2,dtype=torch.float16)"
   ]
  },
  {
   "cell_type": "code",
   "execution_count": null,
   "id": "0cdd2a22-77c1-4a0d-aad8-f9e62d5bc430",
   "metadata": {},
   "outputs": [],
   "source": [
    "x.dtype"
   ]
  },
  {
   "cell_type": "code",
   "execution_count": null,
   "id": "b9acb2c2-5974-4f2a-aa86-2df1acd6af42",
   "metadata": {},
   "outputs": [],
   "source": [
    "print(x.size())"
   ]
  },
  {
   "cell_type": "code",
   "execution_count": null,
   "id": "3c5471ce-9607-4fed-bee9-8e2545eea61a",
   "metadata": {},
   "outputs": [],
   "source": [
    "x = torch.tensor([4,56,7,66])"
   ]
  },
  {
   "cell_type": "code",
   "execution_count": null,
   "id": "9e29af45-8ea2-4617-be53-e9a0f5348c1a",
   "metadata": {},
   "outputs": [],
   "source": [
    "x"
   ]
  },
  {
   "cell_type": "code",
   "execution_count": null,
   "id": "05df0e3b-843a-4a3a-b0bc-27abc601e6a0",
   "metadata": {},
   "outputs": [],
   "source": [
    "a = torch.rand(5,6)\n",
    "b = torch.rand(5,6)\n",
    "print(a)\n",
    "print(b)"
   ]
  },
  {
   "cell_type": "code",
   "execution_count": null,
   "id": "57020a3a-feb2-4b3c-9e6d-5d7e5dfc939d",
   "metadata": {},
   "outputs": [],
   "source": [
    "a+b"
   ]
  },
  {
   "cell_type": "code",
   "execution_count": null,
   "id": "e67bc521-90b7-4f88-bbaf-3c7eee7342e1",
   "metadata": {},
   "outputs": [],
   "source": [
    "torch.add(a,b)"
   ]
  },
  {
   "cell_type": "code",
   "execution_count": null,
   "id": "be7ff37d-f99a-46f3-a4ce-c53d145b444e",
   "metadata": {},
   "outputs": [],
   "source": [
    "torch.sub(a,b)"
   ]
  },
  {
   "cell_type": "markdown",
   "id": "1ec9f5c7-dd6f-4d8c-9de6-dff9f9a4fe00",
   "metadata": {},
   "source": [
    "#### Inplacing multiplication (elementwise)"
   ]
  },
  {
   "cell_type": "code",
   "execution_count": null,
   "id": "b082b95f-7763-4285-862d-96805913177b",
   "metadata": {},
   "outputs": [],
   "source": [
    "a.mul_(b)"
   ]
  },
  {
   "cell_type": "code",
   "execution_count": null,
   "id": "4f49af04-b441-4e19-ac3a-1323f39206ba",
   "metadata": {},
   "outputs": [],
   "source": [
    "a[0][0]*b[0][0]"
   ]
  },
  {
   "cell_type": "code",
   "execution_count": null,
   "id": "65fe0bcd-5bea-4e8b-885a-1850c0f69aa3",
   "metadata": {},
   "outputs": [],
   "source": [
    "a[:,0][0].item()"
   ]
  },
  {
   "cell_type": "markdown",
   "id": "7b5b6161-022d-486b-b2d4-5ed4b2c5c004",
   "metadata": {},
   "source": [
    "### Reshaping"
   ]
  },
  {
   "cell_type": "code",
   "execution_count": null,
   "id": "268d05b9-a5d2-4ba0-af2e-637d6d610d80",
   "metadata": {},
   "outputs": [],
   "source": [
    "a.view(2,15)"
   ]
  },
  {
   "cell_type": "code",
   "execution_count": null,
   "id": "28987a16-bd62-468d-a15e-f5970e2c36df",
   "metadata": {},
   "outputs": [],
   "source": [
    "a.view(2,-1)"
   ]
  },
  {
   "cell_type": "markdown",
   "id": "baec5285-8171-492b-a993-64ca0c61d8fa",
   "metadata": {},
   "source": [
    "### Converting to NUMPY"
   ]
  },
  {
   "cell_type": "code",
   "execution_count": null,
   "id": "d7996a6b-e549-49ac-b8d1-f2b75fc3740f",
   "metadata": {},
   "outputs": [],
   "source": [
    "type(a.numpy())"
   ]
  },
  {
   "cell_type": "markdown",
   "id": "3ac09f22-ba98-4e8a-8930-21a16d9a92ec",
   "metadata": {},
   "source": [
    "#### inplace adding"
   ]
  },
  {
   "cell_type": "code",
   "execution_count": null,
   "id": "d4709868-d381-41a3-bce2-b39177028761",
   "metadata": {},
   "outputs": [],
   "source": [
    "a = torch.tensor([3,4,5])"
   ]
  },
  {
   "cell_type": "code",
   "execution_count": null,
   "id": "74c085ec-321a-4a79-a57c-c0cd5a6ea2e5",
   "metadata": {},
   "outputs": [],
   "source": [
    "a.add_(1)"
   ]
  },
  {
   "cell_type": "code",
   "execution_count": null,
   "id": "89b28c6d-3470-4078-87a3-9a4e9890c410",
   "metadata": {},
   "outputs": [],
   "source": [
    "an = np.array([4,5,1,2])"
   ]
  },
  {
   "cell_type": "code",
   "execution_count": null,
   "id": "24c97e92-d121-4721-9b23-45fd609c13ca",
   "metadata": {},
   "outputs": [],
   "source": [
    "torch.from_numpy(an)"
   ]
  },
  {
   "cell_type": "markdown",
   "id": "510e1011-54c4-44ac-a9df-af32f90bb64f",
   "metadata": {},
   "source": [
    "## Autograd\n",
    "> pytorch will create a computational graph for us"
   ]
  },
  {
   "cell_type": "markdown",
   "id": "0e199aec-948f-436e-8fa0-8c79bf8fa792",
   "metadata": {},
   "source": [
    "### Vector jacobian product"
   ]
  },
  {
   "cell_type": "code",
   "execution_count": null,
   "id": "878a8e82-c17f-49a1-813e-f5824b1af894",
   "metadata": {},
   "outputs": [],
   "source": [
    "x = torch.rand(5,requires_grad = True)\n",
    "x"
   ]
  },
  {
   "cell_type": "code",
   "execution_count": null,
   "id": "f59a5d83-c127-4bbf-ac7e-1a7186576669",
   "metadata": {},
   "outputs": [],
   "source": [
    "y = x+2"
   ]
  },
  {
   "cell_type": "code",
   "execution_count": null,
   "id": "b14137da-d11e-4233-871b-470f29f696b9",
   "metadata": {},
   "outputs": [],
   "source": [
    "y"
   ]
  },
  {
   "cell_type": "code",
   "execution_count": null,
   "id": "5204b2cd-5c04-4d9c-86a6-bef3b0879361",
   "metadata": {},
   "outputs": [],
   "source": [
    "z = y*y*2"
   ]
  },
  {
   "cell_type": "code",
   "execution_count": null,
   "id": "df639cd7-dcfa-41bf-a92c-ecf870cfd94a",
   "metadata": {},
   "outputs": [],
   "source": [
    "az = z.mean()"
   ]
  },
  {
   "cell_type": "code",
   "execution_count": null,
   "id": "aebf4a12-0f0b-4e08-9a09-7824c0a0760a",
   "metadata": {},
   "outputs": [],
   "source": [
    "az.backward()"
   ]
  },
  {
   "cell_type": "code",
   "execution_count": null,
   "id": "6d5993f8-54ee-4559-9476-640694b6979a",
   "metadata": {},
   "outputs": [],
   "source": [
    "x.grad"
   ]
  },
  {
   "cell_type": "code",
   "execution_count": null,
   "id": "01caf954-ebc7-4830-a493-b2ef8d064a8b",
   "metadata": {},
   "outputs": [],
   "source": [
    "x"
   ]
  },
  {
   "cell_type": "code",
   "execution_count": null,
   "id": "adf2f6bb-df0d-416b-8f32-90203f6a0af7",
   "metadata": {},
   "outputs": [],
   "source": [
    "x.requires_grad_(False)"
   ]
  },
  {
   "cell_type": "code",
   "execution_count": null,
   "id": "5c249631-239a-43ef-a5d5-03894a9be280",
   "metadata": {},
   "outputs": [],
   "source": [
    "x = torch.rand(5,requires_grad = True)"
   ]
  },
  {
   "cell_type": "code",
   "execution_count": null,
   "id": "12e57e0d-d884-4087-aef6-feca2cddb3f1",
   "metadata": {},
   "outputs": [],
   "source": [
    "x"
   ]
  },
  {
   "cell_type": "code",
   "execution_count": null,
   "id": "b3715262-f70e-4371-94d2-55847d6aca3a",
   "metadata": {},
   "outputs": [],
   "source": [
    "x.detach()"
   ]
  },
  {
   "cell_type": "code",
   "execution_count": null,
   "id": "8100e1af-98d8-44fc-b6df-f508bf4c8d84",
   "metadata": {},
   "outputs": [],
   "source": [
    "x = torch.rand(5,requires_grad = True)\n",
    "print(x)\n",
    "with torch.no_grad():\n",
    "    y = x+2\n",
    "    print(y)\n",
    "    "
   ]
  },
  {
   "cell_type": "markdown",
   "id": "906fbefd-2e5a-426e-b486-53c5f43e9371",
   "metadata": {},
   "source": [
    "### Gradient cal.\n"
   ]
  },
  {
   "cell_type": "code",
   "execution_count": null,
   "id": "03c3ff7b-3714-4909-8a18-ff4cc7ef7faa",
   "metadata": {},
   "outputs": [],
   "source": [
    "x = torch.tensor(1.0)\n",
    "y = torch.tensor(2.0)\n",
    "\n",
    "w = torch.tensor(1.0,requires_grad=True)\n",
    "\n",
    "y_hat = w*x\n",
    "\n",
    "loss = (y-y_hat)**2\n",
    "print(loss)"
   ]
  },
  {
   "cell_type": "code",
   "execution_count": null,
   "id": "d74e6e91-87f4-4e0f-9a53-049fe2e7870d",
   "metadata": {},
   "outputs": [],
   "source": [
    "loss.backward()\n",
    "print(w.grad)"
   ]
  },
  {
   "cell_type": "code",
   "execution_count": null,
   "id": "267d0d50-b54f-4ed1-88d4-97b5ffa84d7a",
   "metadata": {},
   "outputs": [],
   "source": []
  },
  {
   "cell_type": "markdown",
   "id": "8296af7e-4bc9-4d1e-a8ac-1e77ef47c1b8",
   "metadata": {},
   "source": [
    "# gradient decent"
   ]
  },
  {
   "cell_type": "code",
   "execution_count": null,
   "id": "baaabab2-3a23-4566-bd6d-3202670eeecb",
   "metadata": {},
   "outputs": [],
   "source": []
  },
  {
   "cell_type": "code",
   "execution_count": null,
   "id": "d668f2fc-c8cb-49bf-b41f-007603e2833c",
   "metadata": {},
   "outputs": [],
   "source": []
  },
  {
   "cell_type": "code",
   "execution_count": null,
   "id": "344cace7-2bd2-4ac4-8fd3-3e17c9709aee",
   "metadata": {},
   "outputs": [],
   "source": []
  },
  {
   "cell_type": "code",
   "execution_count": null,
   "id": "96a13f9a-b20f-4bff-b818-ac983a40a6f5",
   "metadata": {},
   "outputs": [],
   "source": [
    "def forward(x):\n",
    "    return w*x"
   ]
  },
  {
   "cell_type": "code",
   "execution_count": null,
   "id": "bdc7d31a-6b9f-46d3-9d08-bc05fd2aab2a",
   "metadata": {},
   "outputs": [],
   "source": [
    "def loss(y,y_pred):\n",
    "    return ((y-y_pred)**2).mean()"
   ]
  },
  {
   "cell_type": "code",
   "execution_count": null,
   "id": "8ff9d6eb-1fef-4949-9cd6-10bff35063f4",
   "metadata": {},
   "outputs": [],
   "source": [
    "def gradient(x,y,y_pred):\n",
    "    return np.dot(2*x,y_pred-y).mean()"
   ]
  },
  {
   "cell_type": "code",
   "execution_count": null,
   "id": "b1adff0c-98f3-453a-94a4-e632c867d0e8",
   "metadata": {},
   "outputs": [],
   "source": [
    "def gradient(x, y, y_pred):\n",
    "    return np.dot(2*x, y_pred - y).mean()"
   ]
  },
  {
   "cell_type": "code",
   "execution_count": null,
   "id": "76844742-67d9-40c6-a41a-b7b5c3b83ace",
   "metadata": {},
   "outputs": [],
   "source": [
    "lr = .01\n",
    "epoch =10\n",
    "\n",
    "X = np.array([1,2,3,4],dtype=np.float32)\n",
    "Y = np.array([2,4,6,8],dtype = np.float32)\n",
    "w = 0.0 \n",
    "\n",
    "for ep in range(epoch):\n",
    "    \n",
    "    \n",
    "    \n",
    "    \n",
    "    \n",
    "    y_pred = forward(X)\n",
    "    l = loss(Y,y_pred)\n",
    "    dw = gradient(X,Y,y_pred)\n",
    "    w -= lr*dw\n",
    "    \n",
    "    print(\"w\",w,\"loss\",l)"
   ]
  },
  {
   "cell_type": "code",
   "execution_count": null,
   "id": "561dd9d7-67c9-4c98-bae7-a5befc13c099",
   "metadata": {},
   "outputs": [],
   "source": []
  },
  {
   "cell_type": "code",
   "execution_count": null,
   "id": "3c749310-96c4-4778-beed-a7fda03a8bae",
   "metadata": {},
   "outputs": [],
   "source": []
  },
  {
   "cell_type": "markdown",
   "id": "49e6b6bd-215c-4d26-bc1b-c7ce54c0ac51",
   "metadata": {},
   "source": [
    "Torch Implementation Gradient backprop\n"
   ]
  },
  {
   "cell_type": "code",
   "execution_count": null,
   "id": "554777cf-3e5b-4f5e-8ab4-bae539ed09b3",
   "metadata": {},
   "outputs": [],
   "source": [
    "import torch\n",
    "lr= 0.01\n",
    "epoch = 30"
   ]
  },
  {
   "cell_type": "code",
   "execution_count": null,
   "id": "bfe634f8-3f62-4990-874c-cf63ae97bef5",
   "metadata": {},
   "outputs": [],
   "source": [
    "X= torch.tensor([1,2,3,4],dtype=torch.float32)\n",
    "Y= torch.tensor([2,4,6,8],dtype=torch.float32)\n",
    "\n",
    "w= torch.tensor(0.0, dtype=torch.float32,requires_grad = True)"
   ]
  },
  {
   "cell_type": "code",
   "execution_count": null,
   "id": "4a2649d9-ec22-40d7-a977-997a87170504",
   "metadata": {},
   "outputs": [],
   "source": [
    "def forward(x):\n",
    "    return x*w"
   ]
  },
  {
   "cell_type": "code",
   "execution_count": null,
   "id": "5dc5e602-7ab0-4394-acb3-b9e23ec40f4b",
   "metadata": {},
   "outputs": [],
   "source": [
    "def loss(y,y_pred):\n",
    "    return ((y-y_pred)**2).mean()"
   ]
  },
  {
   "cell_type": "code",
   "execution_count": null,
   "id": "7b8bc76d-0219-4f6e-8c88-779197091c04",
   "metadata": {},
   "outputs": [],
   "source": [
    "for ep in range(epoch):\n",
    "    \n",
    "    y_pred = forward(X)\n",
    "    l = loss(Y,y_pred)\n",
    "    l.backward() # d loss/d w\n",
    "    \n",
    "    with torch.no_grad():\n",
    "        w -= lr*w.grad\n",
    "    \n",
    "    w.grad.zero_()\n",
    "    if ep%2==0:\n",
    "        print(\"epoch\",ep,\"W\",w,\" Loss\",l)\n",
    "    \n",
    "    \n",
    "    \n",
    "    \n",
    "    "
   ]
  },
  {
   "cell_type": "code",
   "execution_count": 1,
   "id": "71c1fb78-cd74-4a86-9a37-f2146e2c3a92",
   "metadata": {},
   "outputs": [],
   "source": [
    "import torch\n",
    "import torch.nn as nn\n",
    "\n",
    "epoch = 50"
   ]
  },
  {
   "cell_type": "code",
   "execution_count": 13,
   "id": "f6df491f-c78b-47f3-813a-1fffaf3551ae",
   "metadata": {},
   "outputs": [
    {
     "name": "stdout",
     "output_type": "stream",
     "text": [
      "No of samples 4 No of Feature 1\n"
     ]
    }
   ],
   "source": [
    "\n",
    "\n",
    "X= torch.tensor([[1],[2],[3],[4]],dtype=torch.float32)\n",
    "Y= torch.tensor([[2],[4],[6],[8]],dtype=torch.float32)\n",
    "n_samples,n_features  =X.shape\n",
    "print(\"No of samples\",n_samples,\"No of Feature\",n_features)\n",
    "\n",
    "input_size = n_features\n",
    "output_size = n_features\n",
    "\n",
    "model = nn.Linear(n_features,n_features)\n",
    "\n",
    "loss = nn.MSELoss()\n",
    "optimizer = torch.optim.SGD(model.parameters(),lr=.01)"
   ]
  },
  {
   "cell_type": "code",
   "execution_count": 21,
   "id": "291e109e-e240-4540-8a1b-df064ca32d93",
   "metadata": {},
   "outputs": [
    {
     "name": "stdout",
     "output_type": "stream",
     "text": [
      "epoch 0 W 2.0987188816070557  Loss tensor(0.0142, grad_fn=<MseLossBackward>)\n",
      "epoch 5 W 2.097318172454834  Loss tensor(0.0138, grad_fn=<MseLossBackward>)\n",
      "epoch 10 W 2.0958974361419678  Loss tensor(0.0134, grad_fn=<MseLossBackward>)\n",
      "epoch 15 W 2.0944814682006836  Loss tensor(0.0130, grad_fn=<MseLossBackward>)\n",
      "epoch 20 W 2.0930798053741455  Loss tensor(0.0126, grad_fn=<MseLossBackward>)\n",
      "epoch 25 W 2.0916967391967773  Loss tensor(0.0122, grad_fn=<MseLossBackward>)\n",
      "epoch 30 W 2.0903329849243164  Loss tensor(0.0119, grad_fn=<MseLossBackward>)\n",
      "epoch 35 W 2.088989019393921  Loss tensor(0.0115, grad_fn=<MseLossBackward>)\n",
      "epoch 40 W 2.08766508102417  Loss tensor(0.0112, grad_fn=<MseLossBackward>)\n",
      "epoch 45 W 2.086360454559326  Loss tensor(0.0108, grad_fn=<MseLossBackward>)\n"
     ]
    }
   ],
   "source": [
    "for e in range(epoch):\n",
    "    \n",
    "    \n",
    "    y_pred = model(X)\n",
    "    l = loss(Y,y_pred)\n",
    "    l.backward()\n",
    "    optimizer.step()\n",
    "    optimizer.zero_grad()\n",
    "    \n",
    "    if e%5==0:\n",
    "        [w,b] = model.parameters()\n",
    "        print(\"epoch\",e,\"W\",w[0][0].item(),\" Loss\",l)\n",
    "    \n",
    "    \n",
    "    \n",
    "    \n",
    "    "
   ]
  },
  {
   "cell_type": "code",
   "execution_count": 33,
   "id": "6d0e4bcc-f7be-4110-bfd7-bfdfb88f143e",
   "metadata": {},
   "outputs": [],
   "source": [
    "test = torch.tensor([5],dtype=torch.float32)"
   ]
  },
  {
   "cell_type": "code",
   "execution_count": 24,
   "id": "42aa579b-05ce-45a7-94f3-9b8e7e3933a8",
   "metadata": {},
   "outputs": [
    {
     "data": {
      "text/plain": [
       "10.17577075958252"
      ]
     },
     "execution_count": 24,
     "metadata": {},
     "output_type": "execute_result"
    }
   ],
   "source": [
    "model(test).item()"
   ]
  },
  {
   "cell_type": "code",
   "execution_count": 5,
   "id": "0c9d4846-989c-4636-bdc6-fa2660b01908",
   "metadata": {},
   "outputs": [
    {
     "name": "stdout",
     "output_type": "stream",
     "text": [
      "No of samples 4 No of Feature 1\n"
     ]
    }
   ],
   "source": [
    "X= torch.tensor([[1],[2],[3],[4]],dtype=torch.float32)\n",
    "Y= torch.tensor([[2],[4],[6],[8]],dtype=torch.float32)\n",
    "n_samples,n_features  =X.shape\n",
    "print(\"No of samples\",n_samples,\"No of Feature\",n_features)"
   ]
  },
  {
   "cell_type": "code",
   "execution_count": 6,
   "id": "88a1cd63-e039-4e97-b147-8e2e334f0ff2",
   "metadata": {},
   "outputs": [],
   "source": [
    "class LinearRegression(nn.Module):\n",
    "    def __init__(self,input_size,output_size):\n",
    "        super(LinearRegression,self).__init__()\n",
    "\n",
    "        self.l1 = nn.Linear(input_size,output_size)\n",
    "        \n",
    "    def forward(self,x):\n",
    "        return  self.l1(x)\n",
    "        \n",
    "        "
   ]
  },
  {
   "cell_type": "code",
   "execution_count": 7,
   "id": "66c239f4-259b-4eec-bf73-05c2f97c9834",
   "metadata": {},
   "outputs": [],
   "source": [
    "model = LinearRegression(n_features,n_features)\n",
    "\n",
    "optimizer = torch.optim.Adam(model.parameters(),lr=0.01)\n",
    "loss = nn.MSELoss()\n",
    "\n",
    "\n",
    "    "
   ]
  },
  {
   "cell_type": "code",
   "execution_count": 11,
   "id": "dd4fad4f-704e-427a-a048-4086f1d7b13e",
   "metadata": {},
   "outputs": [
    {
     "name": "stdout",
     "output_type": "stream",
     "text": [
      "epoch 0  Loss tensor(15.2624, grad_fn=<MseLossBackward>)\n",
      "epoch 5  Loss tensor(13.6971, grad_fn=<MseLossBackward>)\n",
      "epoch 10  Loss tensor(12.7620, grad_fn=<MseLossBackward>)\n",
      "epoch 15  Loss tensor(12.1910, grad_fn=<MseLossBackward>)\n",
      "epoch 20  Loss tensor(11.8348, grad_fn=<MseLossBackward>)\n",
      "epoch 25  Loss tensor(11.6068, grad_fn=<MseLossBackward>)\n",
      "epoch 30  Loss tensor(11.4557, grad_fn=<MseLossBackward>)\n",
      "epoch 35  Loss tensor(11.3509, grad_fn=<MseLossBackward>)\n",
      "epoch 40  Loss tensor(11.2740, grad_fn=<MseLossBackward>)\n",
      "epoch 45  Loss tensor(11.2136, grad_fn=<MseLossBackward>)\n"
     ]
    }
   ],
   "source": [
    "for e in range(epoch):\n",
    "    \n",
    "    y_pred = model(X)\n",
    "    l = loss(Y,y_pred)\n",
    "    \n",
    "    \n",
    "    \n",
    "    l.backward()\n",
    "    optimizer.step()\n",
    "    \n",
    "    optimizer.zero_grad()\n",
    "    \n",
    "    \n",
    "    if e%5==0:\n",
    "    \n",
    "        print(\"epoch\",e,\" Loss\",l)"
   ]
  },
  {
   "cell_type": "code",
   "execution_count": null,
   "id": "d7bad27d-c6be-4258-8476-056413c28e3f",
   "metadata": {},
   "outputs": [],
   "source": []
  }
 ],
 "metadata": {
  "kernelspec": {
   "display_name": "gamevir",
   "language": "python",
   "name": "gamevir"
  },
  "language_info": {
   "codemirror_mode": {
    "name": "ipython",
    "version": 3
   },
   "file_extension": ".py",
   "mimetype": "text/x-python",
   "name": "python",
   "nbconvert_exporter": "python",
   "pygments_lexer": "ipython3",
   "version": "3.9.1"
  }
 },
 "nbformat": 4,
 "nbformat_minor": 5
}
