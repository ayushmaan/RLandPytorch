{
 "cells": [
  {
   "cell_type": "code",
   "execution_count": 1,
   "id": "c224a311-d511-461a-ae52-10350fa704c1",
   "metadata": {},
   "outputs": [],
   "source": [
    "import torch\n",
    "import torch.nn as nn\n",
    "import torchvision.transforms as transforms\n",
    "from torch.utils.data import DataLoader\n",
    "import torchvision\n",
    "import matplotlib.pyplot as plt"
   ]
  },
  {
   "cell_type": "code",
   "execution_count": 2,
   "id": "37b25f01-cb3c-46db-9219-018b42e56c1e",
   "metadata": {},
   "outputs": [],
   "source": [
    "input_size = 784\n",
    "hidden_size = 500\n",
    "num_classes = 10\n",
    "num_epochs = 5\n",
    "batch_size= 100\n",
    "learning_rate = 0.001"
   ]
  },
  {
   "cell_type": "code",
   "execution_count": 3,
   "id": "10b604bc-cce0-4859-ace6-2996619d9890",
   "metadata": {},
   "outputs": [],
   "source": [
    "train_dataset = torchvision.datasets.MNIST(root='./data', \n",
    "                                           train=True, \n",
    "                                           transform=transforms.ToTensor(),  \n",
    "                                           download=True)\n",
    "\n",
    "test_dataset = torchvision.datasets.MNIST(root='./data', \n",
    "                                          train=False, \n",
    "                                          transform=transforms.ToTensor())\n",
    "\n",
    "# Data loader\n",
    "train_loader = torch.utils.data.DataLoader(dataset=train_dataset, \n",
    "                                           batch_size=batch_size, \n",
    "                                           shuffle=True)\n",
    "\n",
    "test_loader = torch.utils.data.DataLoader(dataset=test_dataset, \n",
    "                                          batch_size=batch_size, \n",
    "                                          shuffle=False)"
   ]
  },
  {
   "cell_type": "code",
   "execution_count": 4,
   "id": "6264ca51-af36-4f53-82f0-5e44839d9e71",
   "metadata": {},
   "outputs": [],
   "source": [
    "# train_loader = DataLoader(train_dataset,batch_size=batch_size,shuffle=True)\n",
    "# test_loader = DataLoader(test_dataset,batch_size=batch_size,shuffle=False)"
   ]
  },
  {
   "cell_type": "code",
   "execution_count": null,
   "id": "6c2bb96b-e0fd-4fb5-a5c3-4543c8b02909",
   "metadata": {},
   "outputs": [],
   "source": [
    "# \n",
    "# \n"
   ]
  },
  {
   "cell_type": "code",
   "execution_count": null,
   "id": "64d4e69e-5c1e-408e-8886-34194f5aa339",
   "metadata": {},
   "outputs": [],
   "source": []
  },
  {
   "cell_type": "code",
   "execution_count": 5,
   "id": "6d6244cc-7024-4d0b-8c38-af0e7ecea43e",
   "metadata": {},
   "outputs": [],
   "source": [
    "exmple = iter(train_loader)\n",
    "samples,labels = exmple.next()"
   ]
  },
  {
   "cell_type": "code",
   "execution_count": 6,
   "id": "6752c42f-4c3f-4bd8-943e-971bead99c37",
   "metadata": {},
   "outputs": [
    {
     "data": {
      "image/png": "[encoded data removed]",
      "text/plain": [
       "<Figure size 432x288 with 6 Axes>"
      ]
     },
     "metadata": {
      "needs_background": "light"
     },
     "output_type": "display_data"
    }
   ],
   "source": [
    "for i in range(1,7):\n",
    "    plt.subplot(2,3,i)\n",
    "    plt.imshow(samples[i][0],cmap=\"gray\")"
   ]
  },
  {
   "cell_type": "code",
   "execution_count": 7,
   "id": "79478ee7-e700-427b-ac7b-12df2458cf49",
   "metadata": {},
   "outputs": [],
   "source": [
    "class NeuralNet(nn.Module):\n",
    "    def __init__(self, input_size, hidden_size, num_classes):\n",
    "        super(NeuralNet, self).__init__()\n",
    "        self.input_size = input_size\n",
    "        self.l1 = nn.Linear(input_size, hidden_size) \n",
    "        self.relu = nn.ReLU()\n",
    "        self.l2 = nn.Linear(hidden_size, num_classes)  \n",
    "    \n",
    "    def forward(self, x):\n",
    "        out = self.l1(x)\n",
    "        out = self.relu(out)\n",
    "        out = self.l2(out)\n",
    "        # no activation and no softmax at the end\n",
    "        return out\n",
    "        \n",
    "model = NeuralNet(input_size,hidden_size,num_classes)\n",
    "criterion  = nn.CrossEntropyLoss()\n",
    "optimizer = torch.optim.Adam(model.parameters(),lr=learning_rate)"
   ]
  },
  {
   "cell_type": "code",
   "execution_count": null,
   "id": "af46d43b-039b-4092-9387-f12b031f1254",
   "metadata": {},
   "outputs": [],
   "source": []
  },
  {
   "cell_type": "code",
   "execution_count": null,
   "id": "b6339d67-870b-42f8-a8b8-1d7778a91c84",
   "metadata": {},
   "outputs": [],
   "source": [
    "n_total_steps = len(train_loader)\n",
    "for epoch in range(num_epochs):\n",
    "    for i, (images, labels) in enumerate(train_loader):  \n",
    "        # origin shape: [100, 1, 28, 28]\n",
    "        # resized: [100, 784]\n",
    "        images = images.reshape(-1, 28*28)\n",
    "        labels = labels\n",
    "        \n",
    "        # Forward pass\n",
    "        outputs = model(images)\n",
    "        loss = criterion(outputs, labels)\n",
    "        \n",
    "        # Backward and optimize\n",
    "        optimizer.zero_grad()\n",
    "        loss.backward()\n",
    "        optimizer.step()\n",
    "        \n",
    "        if (i+1) % 100 == 0:\n",
    "            print (f'Epoch [{epoch+1}/{num_epochs}], Step [{i+1}/{n_total_steps}], Loss: {loss.item():.4f}')"
   ]
  },
  {
   "cell_type": "code",
   "execution_count": null,
   "id": "c94321dc-eda8-48c8-a3fb-520cbd12a720",
   "metadata": {},
   "outputs": [],
   "source": []
  },
  {
   "cell_type": "code",
   "execution_count": 8,
   "id": "de75ef0a-fbce-4fd4-a37a-fe69cab3ca97",
   "metadata": {},
   "outputs": [
    {
     "name": "stdout",
     "output_type": "stream",
     "text": [
      "Epoch [1/5], Step [100/600], Loss: 0.2655\n",
      "Epoch [1/5], Step [200/600], Loss: 0.2150\n",
      "Epoch [1/5], Step [300/600], Loss: 0.1184\n",
      "Epoch [1/5], Step [400/600], Loss: 0.1894\n",
      "Epoch [1/5], Step [500/600], Loss: 0.1786\n",
      "Epoch [1/5], Step [600/600], Loss: 0.1438\n",
      "Epoch [2/5], Step [100/600], Loss: 0.1373\n",
      "Epoch [2/5], Step [200/600], Loss: 0.0863\n",
      "Epoch [2/5], Step [300/600], Loss: 0.0566\n",
      "Epoch [2/5], Step [400/600], Loss: 0.1082\n",
      "Epoch [2/5], Step [500/600], Loss: 0.0426\n",
      "Epoch [2/5], Step [600/600], Loss: 0.1280\n",
      "Epoch [3/5], Step [100/600], Loss: 0.0903\n",
      "Epoch [3/5], Step [200/600], Loss: 0.0956\n",
      "Epoch [3/5], Step [300/600], Loss: 0.0499\n",
      "Epoch [3/5], Step [400/600], Loss: 0.1048\n",
      "Epoch [3/5], Step [500/600], Loss: 0.0198\n",
      "Epoch [3/5], Step [600/600], Loss: 0.0506\n",
      "Epoch [4/5], Step [100/600], Loss: 0.0707\n",
      "Epoch [4/5], Step [200/600], Loss: 0.0371\n",
      "Epoch [4/5], Step [300/600], Loss: 0.0617\n",
      "Epoch [4/5], Step [400/600], Loss: 0.0142\n",
      "Epoch [4/5], Step [500/600], Loss: 0.0597\n",
      "Epoch [4/5], Step [600/600], Loss: 0.0210\n",
      "Epoch [5/5], Step [100/600], Loss: 0.0339\n",
      "Epoch [5/5], Step [200/600], Loss: 0.0565\n",
      "Epoch [5/5], Step [300/600], Loss: 0.0539\n",
      "Epoch [5/5], Step [400/600], Loss: 0.0223\n",
      "Epoch [5/5], Step [500/600], Loss: 0.0297\n",
      "Epoch [5/5], Step [600/600], Loss: 0.0403\n"
     ]
    }
   ],
   "source": [
    "n_total_steps = len(train_loader)\n",
    "\n",
    "for ep in range(num_epochs):\n",
    "    for i, (images,labels) in enumerate(train_loader):\n",
    "        images = images.reshape(-1,784)\n",
    "        \n",
    "        # forward\n",
    "        outputs = model(images)\n",
    "        loss = criterion(outputs,labels)\n",
    "        \n",
    "        #backward\n",
    "        optimizer.zero_grad() \n",
    "        loss.backward()\n",
    "        optimizer.step()\n",
    "        \n",
    "        \n",
    "        if (i+1) % 100 == 0:\n",
    "            print (f'Epoch [{ep+1}/{num_epochs}], Step [{i+1}/{n_total_steps}], Loss: {loss.item():.4f}')"
   ]
  },
  {
   "cell_type": "code",
   "execution_count": 24,
   "id": "d058cdfa-a296-47b5-a1fc-8c73219db554",
   "metadata": {},
   "outputs": [],
   "source": [
    "with torch.no_grad():\n",
    "    n_corrent = 0\n",
    "    n_samples = 0\n",
    "    \n",
    "    for images,labels in test_loader:\n",
    "        images = images.reshape(-1,784)\n",
    "        \n",
    "        outputs = model(images)\n",
    "        n_corrent += (labels == torch.max(outputs,dim=1)[1]).sum().item()\n",
    "        n_samples += labels.shape[0]\n",
    "        \n",
    "        "
   ]
  },
  {
   "cell_type": "code",
   "execution_count": 26,
   "id": "9346eb65-15c1-4bcf-bba2-950ac1b7d340",
   "metadata": {},
   "outputs": [
    {
     "data": {
      "text/plain": [
       "0.9795"
      ]
     },
     "execution_count": 26,
     "metadata": {},
     "output_type": "execute_result"
    }
   ],
   "source": [
    "n_corrent/n_samples"
   ]
  },
  {
   "cell_type": "code",
   "execution_count": null,
   "id": "f6a9fed6-d36c-438d-b7ae-2ed344ee0ce7",
   "metadata": {},
   "outputs": [],
   "source": []
  },
  {
   "cell_type": "code",
   "execution_count": null,
   "id": "66c7eb8d-2ab2-4ba8-9fab-e3005ae3a07d",
   "metadata": {},
   "outputs": [],
   "source": []
  },
  {
   "cell_type": "code",
   "execution_count": null,
   "id": "87dcce03-9750-4ab9-a42a-bf8248a2771e",
   "metadata": {},
   "outputs": [],
   "source": []
  },
  {
   "cell_type": "code",
   "execution_count": null,
   "id": "3a37e686-64a0-458e-8f63-a8c47604ecfc",
   "metadata": {},
   "outputs": [],
   "source": []
  },
  {
   "cell_type": "code",
   "execution_count": null,
   "id": "815cfda7-cb5f-4049-937f-767274e6265c",
   "metadata": {},
   "outputs": [],
   "source": []
  },
  {
   "cell_type": "code",
   "execution_count": null,
   "id": "50c728ca-d2eb-4854-9c8b-6c191f839da7",
   "metadata": {},
   "outputs": [],
   "source": []
  },
  {
   "cell_type": "code",
   "execution_count": null,
   "id": "6fca1ba1-a29e-4b1b-a4c7-2c67d84c8085",
   "metadata": {},
   "outputs": [],
   "source": []
  },
  {
   "cell_type": "code",
   "execution_count": null,
   "id": "08811b04-f227-474a-a413-375ed8816eab",
   "metadata": {},
   "outputs": [],
   "source": []
  },
  {
   "cell_type": "code",
   "execution_count": null,
   "id": "ba3ca75a-d6bb-461f-910e-05bbd75c0b20",
   "metadata": {},
   "outputs": [],
   "source": []
  },
  {
   "cell_type": "code",
   "execution_count": null,
   "id": "0caa872a-858e-48be-8f93-c51a046d2a55",
   "metadata": {},
   "outputs": [],
   "source": []
  },
  {
   "cell_type": "code",
   "execution_count": null,
   "id": "93ae5ba5-51b1-4573-ab40-b551df0b517f",
   "metadata": {},
   "outputs": [],
   "source": []
  },
  {
   "cell_type": "code",
   "execution_count": null,
   "id": "e3a50109-ca1f-4bb3-9630-edbd3886ef25",
   "metadata": {},
   "outputs": [],
   "source": []
  }
 ],
 "metadata": {
  "kernelspec": {
   "display_name": "gamevir",
   "language": "python",
   "name": "gamevir"
  },
  "language_info": {
   "codemirror_mode": {
    "name": "ipython",
    "version": 3
   },
   "file_extension": ".py",
   "mimetype": "text/x-python",
   "name": "python",
   "nbconvert_exporter": "python",
   "pygments_lexer": "ipython3",
   "version": "3.9.1"
  }
 },
 "nbformat": 4,
 "nbformat_minor": 5
}
