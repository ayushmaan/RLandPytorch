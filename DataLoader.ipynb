{
 "cells": [
  {
   "cell_type": "code",
   "execution_count": 2,
   "id": "e93c3e04-c66b-4f6d-81e3-a69455bb7dcc",
   "metadata": {},
   "outputs": [],
   "source": [
    "import torch\n",
    "import torch.nn as nn\n",
    "from torch.utils.data import DataLoader, Dataset\n",
    "import numpy as np"
   ]
  },
  {
   "cell_type": "code",
   "execution_count": 13,
   "id": "db68d5d5-9218-4569-96a4-8a63be34f2d7",
   "metadata": {},
   "outputs": [],
   "source": [
    "class Winedataset(Dataset):\n",
    "    def __init__(self):\n",
    "        xy = np.loadtxt(\"/Users/ayushmangupta/Downloads/wine.csv\",delimiter=\",\",skiprows=1,dtype=np.float32)\n",
    "        self.x = torch.from_numpy(xy[:,1:])\n",
    "        self.y = torch.from_numpy(xy[:,[0]])\n",
    "        self.n_samples = xy.shape[0]\n",
    "        \n",
    "    def __getitem__(self,index):\n",
    "        #indexing\n",
    "        return self.x[index],self.y[index]\n",
    "    \n",
    "    \n",
    "    def __len__(self):\n",
    "        return self.n_samples\n",
    "        "
   ]
  },
  {
   "cell_type": "code",
   "execution_count": 14,
   "id": "0607ee59-148f-4e8a-9f51-8d26265c9c2e",
   "metadata": {},
   "outputs": [],
   "source": [
    "datas = Winedataset()"
   ]
  },
  {
   "cell_type": "code",
   "execution_count": 20,
   "id": "379af955-0dbb-4718-87be-02f7832c39f2",
   "metadata": {},
   "outputs": [],
   "source": [
    "dataloader = DataLoader(datas,batch_size=4,shuffle=True)\n",
    "dataiter = iter(dataloader)\n",
    "\n"
   ]
  },
  {
   "cell_type": "code",
   "execution_count": 24,
   "id": "00bea516-bf33-42e7-ba8b-369560293901",
   "metadata": {},
   "outputs": [
    {
     "data": {
      "text/plain": [
       "[tensor([[1.3830e+01, 1.6500e+00, 2.6000e+00, 1.7200e+01, 9.4000e+01, 2.4500e+00,\n",
       "          2.9900e+00, 2.2000e-01, 2.2900e+00, 5.6000e+00, 1.2400e+00, 3.3700e+00,\n",
       "          1.2650e+03],\n",
       "         [1.3780e+01, 2.7600e+00, 2.3000e+00, 2.2000e+01, 9.0000e+01, 1.3500e+00,\n",
       "          6.8000e-01, 4.1000e-01, 1.0300e+00, 9.5800e+00, 7.0000e-01, 1.6800e+00,\n",
       "          6.1500e+02],\n",
       "         [1.3640e+01, 3.1000e+00, 2.5600e+00, 1.5200e+01, 1.1600e+02, 2.7000e+00,\n",
       "          3.0300e+00, 1.7000e-01, 1.6600e+00, 5.1000e+00, 9.6000e-01, 3.3600e+00,\n",
       "          8.4500e+02],\n",
       "         [1.2080e+01, 1.3900e+00, 2.5000e+00, 2.2500e+01, 8.4000e+01, 2.5600e+00,\n",
       "          2.2900e+00, 4.3000e-01, 1.0400e+00, 2.9000e+00, 9.3000e-01, 3.1900e+00,\n",
       "          3.8500e+02]]),\n",
       " tensor([[1.],\n",
       "         [3.],\n",
       "         [1.],\n",
       "         [2.]])]"
      ]
     },
     "execution_count": 24,
     "metadata": {},
     "output_type": "execute_result"
    }
   ],
   "source": [
    "dataiter.next()"
   ]
  },
  {
   "cell_type": "code",
   "execution_count": null,
   "id": "31eed615-602c-45bf-a691-be624dee25c4",
   "metadata": {},
   "outputs": [],
   "source": []
  },
  {
   "cell_type": "code",
   "execution_count": null,
   "id": "f1e8c95f-aafa-4d7f-a004-8bca7375cad7",
   "metadata": {},
   "outputs": [],
   "source": []
  },
  {
   "cell_type": "code",
   "execution_count": null,
   "id": "0a036e40-2242-4be1-8d04-4ce569eafede",
   "metadata": {},
   "outputs": [],
   "source": []
  },
  {
   "cell_type": "code",
   "execution_count": 28,
   "id": "7e91536a-d6aa-408c-91b4-d63b36512737",
   "metadata": {},
   "outputs": [],
   "source": [
    "scores = torch.tensor([3,4,5],dtype=torch.float32)"
   ]
  },
  {
   "cell_type": "code",
   "execution_count": 29,
   "id": "f0e3d25a-2293-4d39-bcaa-ac2ac35d0ccd",
   "metadata": {},
   "outputs": [
    {
     "data": {
      "text/plain": [
       "tensor([0.0900, 0.2447, 0.6652])"
      ]
     },
     "execution_count": 29,
     "metadata": {},
     "output_type": "execute_result"
    }
   ],
   "source": [
    "torch.softmax(scores,dim=0)"
   ]
  },
  {
   "cell_type": "code",
   "execution_count": null,
   "id": "17d5d9f0-10f1-4ca2-85b3-2a8ac9f8a819",
   "metadata": {},
   "outputs": [],
   "source": []
  }
 ],
 "metadata": {
  "kernelspec": {
   "display_name": "gamevir",
   "language": "python",
   "name": "gamevir"
  },
  "language_info": {
   "codemirror_mode": {
    "name": "ipython",
    "version": 3
   },
   "file_extension": ".py",
   "mimetype": "text/x-python",
   "name": "python",
   "nbconvert_exporter": "python",
   "pygments_lexer": "ipython3",
   "version": "3.9.1"
  }
 },
 "nbformat": 4,
 "nbformat_minor": 5
}
