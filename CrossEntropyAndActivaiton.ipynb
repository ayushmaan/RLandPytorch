{
 "cells": [
  {
   "cell_type": "code",
   "execution_count": 1,
   "id": "1e410b61-d3e0-40d4-bd97-963bc4c5fbd3",
   "metadata": {},
   "outputs": [],
   "source": [
    "import torch\n",
    "import torch.nn as nn\n",
    "import numpy as np"
   ]
  },
  {
   "cell_type": "markdown",
   "id": "f056a277-db72-44a0-b63e-af8d38f54b22",
   "metadata": {},
   "source": [
    "# Cross Entropy\n",
    "\n",
    "multiclass problem \n",
    "(better our pred -> Lower our less.\n",
    "### y must me One hot"
   ]
  },
  {
   "cell_type": "code",
   "execution_count": 3,
   "id": "da13227c-2af1-47c5-9a46-113d8df100ef",
   "metadata": {},
   "outputs": [],
   "source": [
    "def crossEntropy(actual,pred):\n",
    "    loss = -np.sum(actual*np.log(pred))\n",
    "    return loss"
   ]
  },
  {
   "cell_type": "code",
   "execution_count": 4,
   "id": "e111cf82-c88d-4b1d-a1a7-cd1da9128ad0",
   "metadata": {},
   "outputs": [],
   "source": [
    "Y = np.array([1,0,0])"
   ]
  },
  {
   "cell_type": "code",
   "execution_count": 5,
   "id": "122c950b-9db0-47ca-bee6-1eac4942f027",
   "metadata": {},
   "outputs": [],
   "source": [
    "Y_good = np.array([0.7,0.2,0.1])\n",
    "Y_bad = np.array([.1,.3,.6])"
   ]
  },
  {
   "cell_type": "code",
   "execution_count": 6,
   "id": "d7671503-0f71-4cc9-9122-8d3e0d819c84",
   "metadata": {},
   "outputs": [
    {
     "name": "stdout",
     "output_type": "stream",
     "text": [
      "0.35667494393873245\n",
      "2.3025850929940455\n"
     ]
    }
   ],
   "source": [
    "print(crossEntropy(Y,Y_good))\n",
    "print(crossEntropy(Y,Y_bad))"
   ]
  },
  {
   "cell_type": "markdown",
   "id": "d6fe9a28-8032-4ae3-a93a-db8b58bc8b27",
   "metadata": {},
   "source": [
    "### Torch"
   ]
  },
  {
   "cell_type": "markdown",
   "id": "acbea04d-4adf-45ed-9eac-7c75c754d318",
   "metadata": {},
   "source": [
    "1. No softmax layer in last layer\n",
    "2. nn.CrossEntroyLoss applies nn.LogSoftmax + nn.NLLLoss (Neg log likelihood loss)\n",
    "\n",
    "Y has class labels, not One hot\n",
    "Y_pred has raw scores (no softmax)\n"
   ]
  },
  {
   "cell_type": "code",
   "execution_count": 7,
   "id": "34e0d2c7-1b69-48e4-af71-c7d50b508b64",
   "metadata": {},
   "outputs": [],
   "source": [
    "loss = nn.CrossEntropyLoss()"
   ]
  },
  {
   "cell_type": "code",
   "execution_count": 21,
   "id": "db5a4d0b-6b8d-454c-8b55-7e526ed9a9c8",
   "metadata": {},
   "outputs": [],
   "source": [
    "Y = torch.tensor([0,2,1])\n",
    "Y_pred_good = torch.tensor([[2.0,1.0,0.1],[1.0,2.0,5.0],[.6,1,.4]])\n",
    "Y_pred_bad = torch.tensor([[.5,2.0,0.3],[4.5,1.0,0.3],[1.5,1.0,0.3]])"
   ]
  },
  {
   "cell_type": "code",
   "execution_count": 22,
   "id": "953a980c-7779-49c7-b6a4-695c19a1c9c3",
   "metadata": {},
   "outputs": [
    {
     "name": "stdout",
     "output_type": "stream",
     "text": [
      "tensor(0.4267)\n",
      "tensor(2.4102)\n"
     ]
    }
   ],
   "source": [
    "print(loss(Y_pred_good,Y))\n",
    "print(loss(Y_pred_bad,Y))"
   ]
  },
  {
   "cell_type": "code",
   "execution_count": 14,
   "id": "a2b5c318-f920-43d2-a2a7-17a835d7f945",
   "metadata": {},
   "outputs": [
    {
     "data": {
      "text/plain": [
       "tensor([0])"
      ]
     },
     "execution_count": 14,
     "metadata": {},
     "output_type": "execute_result"
    }
   ],
   "source": [
    "torch.argmax(Y_pred_good,1)"
   ]
  },
  {
   "cell_type": "code",
   "execution_count": 12,
   "id": "8d4cf23a-2549-448a-816f-b8741c186de9",
   "metadata": {},
   "outputs": [
    {
     "data": {
      "text/plain": [
       "tensor(2.)"
      ]
     },
     "execution_count": 12,
     "metadata": {},
     "output_type": "execute_result"
    }
   ],
   "source": [
    "torch.max(Y_pred_bad)"
   ]
  },
  {
   "cell_type": "code",
   "execution_count": null,
   "id": "01428b3d-dfb7-4fcb-894f-14c81711ab67",
   "metadata": {},
   "outputs": [],
   "source": []
  }
 ],
 "metadata": {
  "kernelspec": {
   "display_name": "gamevir",
   "language": "python",
   "name": "gamevir"
  },
  "language_info": {
   "codemirror_mode": {
    "name": "ipython",
    "version": 3
   },
   "file_extension": ".py",
   "mimetype": "text/x-python",
   "name": "python",
   "nbconvert_exporter": "python",
   "pygments_lexer": "ipython3",
   "version": "3.9.1"
  }
 },
 "nbformat": 4,
 "nbformat_minor": 5
}
